{
 "cells": [
  {
   "attachments": {},
   "cell_type": "markdown",
   "metadata": {},
   "source": [
    "Alan Alfredo Onofre Chavez A01632858"
   ]
  },
  {
   "cell_type": "code",
   "execution_count": 41,
   "metadata": {},
   "outputs": [],
   "source": [
    "# Importing libraries\n",
    "import numpy as np\n",
    "import pandas as pd\n",
    "import matplotlib.pyplot as plt\n",
    "import matplotlib.cm as cm\n",
    "from sklearn import datasets\n",
    "from sklearn.model_selection import cross_validate\n",
    "from sklearn import svm\n",
    "import random"
   ]
  },
  {
   "cell_type": "code",
   "execution_count": 42,
   "metadata": {},
   "outputs": [
    {
     "name": "stdout",
     "output_type": "stream",
     "text": [
      "Features:  153\n",
      "Clases:  2\n",
      "Acc:  0.7821743036837376\n",
      "Recall:  0.7821743036837376\n"
     ]
    }
   ],
   "source": [
    "# Reading datasets\n",
    "data = np.loadtxt(r'\\Users\\alana\\Documents\\TecMTY\\RoboticaInteligente\\DeepLearning\\clasifcacion\\mist_data\\misterious_data_1.txt')\n",
    "\n",
    "x = data[:, 1:]\n",
    "y = data[:, 0]\n",
    "\n",
    "# Print information\n",
    "print('Features: ', len(x[0]))\n",
    "print('Clases: ', len(set(y)))\n",
    "\n",
    "clf = svm.SVC(kernel=\"linear\")\n",
    "clf_results = cross_validate(clf, x, y, cv = 5, scoring=('accuracy', 'recall_micro'))\n",
    "print('Acc: ', np.mean(clf_results['test_accuracy']))\n",
    "print('Recall: ', np.mean(clf_results['test_recall_micro']))"
   ]
  },
  {
   "cell_type": "code",
   "execution_count": 43,
   "metadata": {},
   "outputs": [
    {
     "name": "stdout",
     "output_type": "stream",
     "text": [
      "Total data:  53\n",
      "Acc:  0.7821743036837376\n",
      "Recall:  0.7821743036837376\n"
     ]
    },
    {
     "name": "stderr",
     "output_type": "stream",
     "text": [
      "C:\\Users\\alana\\AppData\\Local\\Packages\\PythonSoftwareFoundation.Python.3.10_qbz5n2kfra8p0\\LocalCache\\local-packages\\Python310\\site-packages\\sklearn\\model_selection\\_split.py:700: UserWarning: The least populated class in y has only 4 members, which is less than n_splits=5.\n",
      "  warnings.warn(\n"
     ]
    }
   ],
   "source": [
    "# Selecting only the 10% of the data\n",
    "porcentage = 10\n",
    "p_data = round(len(x) / 100 * porcentage)\n",
    "\n",
    "print('Total data: ', p_data)\n",
    "x_random = random.choices(list(range(len(x))), k = porcentage)\n",
    "\n",
    "# Use of arrays to fill it with random data\n",
    "x_samples = []\n",
    "y_samples = []\n",
    "\n",
    "for i in x_random:\n",
    "    x_samples.append(x[i])\n",
    "    y_samples.append(y[i])\n",
    "\n",
    "# Using cross validation\n",
    "clf = svm.SVC(kernel=\"linear\")\n",
    "results = cross_validate(clf, x_samples, y_samples, cv = 5, scoring=('accuracy', 'recall_micro'))\n",
    "print('Acc: ', np.mean(clf_results['test_accuracy']))\n",
    "print('Recall: ', np.mean(clf_results['test_recall_micro']))"
   ]
  },
  {
   "cell_type": "code",
   "execution_count": 44,
   "metadata": {},
   "outputs": [
    {
     "name": "stdout",
     "output_type": "stream",
     "text": [
      "[0.8309090909090908, 0.7975, 0.7640692640692641, 0.7803418803418802, 0.7286290322580646, 0.7351351351351351, 0.77718715393134, 0.823404255319149, 0.8976052249637156, 0.8241379310344827, 0.8136904761904763, 0.8685848252344416, 0.8972972972972972, 0.8510443037974683, 0.8602801120448179, 0.8508614232209739, 0.8315789473684211, 0.8166930693069308]\n"
     ]
    },
    {
     "name": "stderr",
     "output_type": "stream",
     "text": [
      "C:\\Users\\alana\\AppData\\Local\\Temp\\ipykernel_5936\\2788589915.py:22: UserWarning: No data for colormapping provided via 'c'. Parameters 'cmap' will be ignored\n",
      "  plt.scatter(range(10, 96, 5), my_results, cmap=plt.cm.Set1, edgecolor=\"k\")\n"
     ]
    },
    {
     "data": {
      "image/png": "[encoded data removed]",
      "text/plain": [
       "<Figure size 800x600 with 1 Axes>"
      ]
     },
     "metadata": {},
     "output_type": "display_data"
    }
   ],
   "source": [
    "# Repeating the same steps using different porcentages\n",
    "my_results = []\n",
    "\n",
    "for porcentage in range(10, 96, 5):\n",
    "    data_porcentage = round(len(x) / 100 * porcentage)\n",
    "\n",
    "    x_sample_test = random.choices(list(range(len(x))), k = data_porcentage)\n",
    "    x_samples = []\n",
    "    y_samples = []\n",
    "\n",
    "    for i in x_sample_test:\n",
    "        x_samples.append(x[i])\n",
    "        y_samples.append(y[i])\n",
    "\n",
    "    clf_new = svm.SVC(kernel=\"linear\")\n",
    "    results = cross_validate(clf_new, x_samples, y_samples, cv = 5, scoring=('accuracy', 'recall_micro'))\n",
    "    my_results.append(np.mean(results['test_accuracy']))\n",
    "\n",
    "plt.figure(4, figsize=(8, 6))\n",
    "plt.clf()\n",
    "\n",
    "plt.scatter(range(10, 96, 5), my_results, cmap=plt.cm.Set1, edgecolor=\"k\")\n",
    "plt.xlabel(\"Percentage\")\n",
    "plt.ylabel(\"Accuracy\")\n",
    "\n",
    "print(my_results)"
   ]
  },
  {
   "attachments": {},
   "cell_type": "markdown",
   "metadata": {},
   "source": [
    "Referencias:\n",
    "\n",
    "https://www.geeksforgeeks.org/random-choices-method-in-python/\n",
    "\n",
    "https://scikit-learn.org/stable/modules/cross_validation.html"
   ]
  }
 ],
 "metadata": {
  "kernelspec": {
   "display_name": "Python 3",
   "language": "python",
   "name": "python3"
  },
  "language_info": {
   "codemirror_mode": {
    "name": "ipython",
    "version": 3
   },
   "file_extension": ".py",
   "mimetype": "text/x-python",
   "name": "python",
   "nbconvert_exporter": "python",
   "pygments_lexer": "ipython3",
   "version": "3.10.11"
  },
  "orig_nbformat": 4
 },
 "nbformat": 4,
 "nbformat_minor": 2
}
