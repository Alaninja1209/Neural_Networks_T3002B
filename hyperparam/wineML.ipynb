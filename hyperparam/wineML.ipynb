{
 "cells": [
  {
   "cell_type": "code",
   "execution_count": 37,
   "metadata": {},
   "outputs": [],
   "source": [
    "# Importing libraries\n",
    "import numpy as np\n",
    "import matplotlib.pyplot as plt\n",
    "import matplotlib.cm as cm\n",
    "from sklearn import datasets\n",
    "from sklearn.model_selection import KFold\n",
    "from sklearn.svm import SVC\n",
    "from sklearn.metrics import accuracy_score\n",
    "from sklearn.neural_network import MLPRegressor\n",
    "from keras.layers import Dense\n",
    "from keras.models import Sequential\n",
    "from keras.utils import np_utils\n",
    "from sklearn.neural_network import MLPClassifier\n",
    "from sklearn.metrics import mean_squared_error, r2_score\n",
    "from sklearn.metrics import classification_report\n",
    "from sklearn import svm\n",
    "from sklearn.model_selection import StratifiedKFold\n",
    "from sklearn.metrics import confusion_matrix\n",
    "from sklearn.neighbors import KNeighborsClassifier\n",
    "from sklearn.model_selection import cross_validate"
   ]
  },
  {
   "cell_type": "code",
   "execution_count": 38,
   "metadata": {},
   "outputs": [
    {
     "name": "stdout",
     "output_type": "stream",
     "text": [
      "Targets:  ['class_0' 'class_1' 'class_2']\n",
      "Features length:  13\n",
      "Features:  ['alcohol', 'malic_acid', 'ash', 'alcalinity_of_ash', 'magnesium', 'total_phenols', 'flavanoids', 'nonflavanoid_phenols', 'proanthocyanins', 'color_intensity', 'hue', 'od280/od315_of_diluted_wines', 'proline']\n"
     ]
    }
   ],
   "source": [
    "# Checking out wine data\n",
    "wine = datasets.load_wine()\n",
    "x = wine.data\n",
    "y = wine.target\n",
    "targets = wine.target_names\n",
    "n_targets = len(targets)\n",
    "features = wine.feature_names\n",
    "n_features = len(features)\n",
    "\n",
    "# Checking out the data\n",
    "print('Targets: ', targets)\n",
    "print('Features length: ', len(features))\n",
    "print('Features: ', features)"
   ]
  },
  {
   "cell_type": "code",
   "execution_count": 39,
   "metadata": {},
   "outputs": [
    {
     "name": "stdout",
     "output_type": "stream",
     "text": [
      "acc =  0.9166666666666666\n",
      "acc =  0.9722222222222222\n",
      "acc =  0.3055555555555556\n",
      "acc =  1.0\n",
      "acc =  0.5428571428571428\n",
      "ACC =  0.7474603174603175\n"
     ]
    }
   ],
   "source": [
    "# Train MLP classifier with all available observations\n",
    "clf = MLPClassifier(hidden_layer_sizes=(100, 100), max_iter=10000)\n",
    "clf.fit(x, y)\n",
    "\n",
    "# Applying cross validation\n",
    "kf = KFold(n_splits=5, shuffle = True)\n",
    "acc = 0\n",
    "\n",
    "for train_index, test_index in kf.split(x):\n",
    "    # Training phase\n",
    "    x_train = x[train_index, :]\n",
    "    y_train = y[train_index]\n",
    "\n",
    "    clf_i = MLPClassifier(hidden_layer_sizes=(100, 100), max_iter=10000)\n",
    "    clf_i.fit(x_train, y_train)\n",
    "\n",
    "    # Test phase\n",
    "    x_test = x[test_index, :]\n",
    "    y_test = y[test_index]    \n",
    "    y_pred = clf_i.predict(x_test)\n",
    "\n",
    "    # Calculate confusion matrix and model performance\n",
    "    cm = confusion_matrix(y_test, y_pred)\n",
    "    acc_i = np.trace(cm) / np.sum(cm)   \n",
    "    print('acc = ', acc_i)\n",
    "\n",
    "    acc += acc_i \n",
    "\n",
    "acc = acc/5\n",
    "print('ACC = ', acc)"
   ]
  },
  {
   "cell_type": "code",
   "execution_count": 40,
   "metadata": {},
   "outputs": [
    {
     "name": "stdout",
     "output_type": "stream",
     "text": [
      "Fold 1: Accuracy = 0.5555555555555556 (Regularization = 0.0001)\n",
      "Fold 2: Accuracy = 0.5277777777777778 (Regularization = 0.0001)\n",
      "Fold 3: Accuracy = 0.9166666666666666 (Regularization = 0.0001)\n",
      "Fold 4: Accuracy = 0.7142857142857143 (Regularization = 0.0001)\n",
      "Fold 5: Accuracy = 0.9142857142857143 (Regularization = 0.0001)\n",
      "Average Accuracy: 0.7257142857142858 (Regularization = 0.0001)\n",
      "Fold 1: Accuracy = 0.1388888888888889 (Regularization = 0.001)\n",
      "Fold 2: Accuracy = 0.25 (Regularization = 0.001)\n",
      "Fold 3: Accuracy = 0.3888888888888889 (Regularization = 0.001)\n",
      "Fold 4: Accuracy = 0.9428571428571428 (Regularization = 0.001)\n",
      "Fold 5: Accuracy = 1.0 (Regularization = 0.001)\n",
      "Average Accuracy: 0.5441269841269841 (Regularization = 0.001)\n",
      "Fold 1: Accuracy = 0.9166666666666666 (Regularization = 0.01)\n",
      "Fold 2: Accuracy = 0.3611111111111111 (Regularization = 0.01)\n",
      "Fold 3: Accuracy = 0.3055555555555556 (Regularization = 0.01)\n",
      "Fold 4: Accuracy = 0.2571428571428571 (Regularization = 0.01)\n",
      "Fold 5: Accuracy = 0.9428571428571428 (Regularization = 0.01)\n",
      "Average Accuracy: 0.5566666666666666 (Regularization = 0.01)\n",
      "Fold 1: Accuracy = 0.5555555555555556 (Regularization = 0.1)\n",
      "Fold 2: Accuracy = 1.0 (Regularization = 0.1)\n",
      "Fold 3: Accuracy = 0.8888888888888888 (Regularization = 0.1)\n",
      "Fold 4: Accuracy = 0.9142857142857143 (Regularization = 0.1)\n",
      "Fold 5: Accuracy = 0.2857142857142857 (Regularization = 0.1)\n",
      "Average Accuracy: 0.7288888888888889 (Regularization = 0.1)\n",
      "Fold 1: Accuracy = 1.0 (Regularization = 1)\n",
      "Fold 2: Accuracy = 0.5 (Regularization = 1)\n",
      "Fold 3: Accuracy = 0.7777777777777778 (Regularization = 1)\n",
      "Fold 4: Accuracy = 0.9714285714285714 (Regularization = 1)\n",
      "Fold 5: Accuracy = 0.4857142857142857 (Regularization = 1)\n",
      "Average Accuracy: 0.746984126984127 (Regularization = 1)\n",
      "Fold 1: Accuracy = 0.4722222222222222 (Regularization = 10)\n",
      "Fold 2: Accuracy = 0.9444444444444444 (Regularization = 10)\n",
      "Fold 3: Accuracy = 0.8055555555555556 (Regularization = 10)\n",
      "Fold 4: Accuracy = 0.9142857142857143 (Regularization = 10)\n",
      "Fold 5: Accuracy = 0.9142857142857143 (Regularization = 10)\n",
      "Average Accuracy: 0.8101587301587301 (Regularization = 10)\n",
      "Fold 1: Accuracy = 0.6111111111111112 (Regularization = 100)\n",
      "Fold 2: Accuracy = 0.75 (Regularization = 100)\n",
      "Fold 3: Accuracy = 0.6388888888888888 (Regularization = 100)\n",
      "Fold 4: Accuracy = 0.8 (Regularization = 100)\n",
      "Fold 5: Accuracy = 0.6285714285714286 (Regularization = 100)\n",
      "Average Accuracy: 0.6857142857142857 (Regularization = 100)\n"
     ]
    }
   ],
   "source": [
    "# Define regularization values to test\n",
    "regularization_values = [1e-4, 1e-3, 1e-2, 0.1, 1, 10, 100]\n",
    "\n",
    "for regularization in regularization_values:\n",
    "    # Define MLP model with the specified regularization value\n",
    "    clf = MLPClassifier(hidden_layer_sizes=(20, 20, 20, 20, 20), max_iter=10000, alpha=regularization)\n",
    "\n",
    "    # Perform cross-validation\n",
    "    kf = KFold(n_splits=5, shuffle=True)\n",
    "    accuracies = []\n",
    "\n",
    "    for train_index, test_index in kf.split(x):\n",
    "        # Training phase\n",
    "        x_train = x[train_index]\n",
    "        y_train = y[train_index]\n",
    "\n",
    "        clf.fit(x_train, y_train)\n",
    "\n",
    "        # Test phase\n",
    "        x_test = x[test_index]\n",
    "        y_test = y[test_index]\n",
    "        y_pred = clf.predict(x_test)\n",
    "\n",
    "        # Calculate accuracy\n",
    "        accuracy = accuracy_score(y_test, y_pred)\n",
    "        accuracies.append(accuracy)\n",
    "\n",
    "    # Print the accuracy for each fold\n",
    "    for i, accuracy in enumerate(accuracies):\n",
    "        print(f\"Fold {i+1}: Accuracy = {accuracy} (Regularization = {regularization})\")\n",
    "\n",
    "    # Compute and print the average accuracy across all folds\n",
    "    average_accuracy = sum(accuracies) / len(accuracies)\n",
    "    print(f\"Average Accuracy: {average_accuracy} (Regularization = {regularization})\")"
   ]
  }
 ],
 "metadata": {
  "kernelspec": {
   "display_name": "Python 3",
   "language": "python",
   "name": "python3"
  },
  "language_info": {
   "codemirror_mode": {
    "name": "ipython",
    "version": 3
   },
   "file_extension": ".py",
   "mimetype": "text/x-python",
   "name": "python",
   "nbconvert_exporter": "python",
   "pygments_lexer": "ipython3",
   "version": "3.10.11"
  },
  "orig_nbformat": 4
 },
 "nbformat": 4,
 "nbformat_minor": 2
}
